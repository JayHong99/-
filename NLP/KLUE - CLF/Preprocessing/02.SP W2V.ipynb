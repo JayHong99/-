{
 "cells": [
  {
   "cell_type": "markdown",
   "metadata": {},
   "source": [
    "# Library"
   ]
  },
  {
   "cell_type": "code",
   "execution_count": 1,
   "metadata": {},
   "outputs": [],
   "source": [
    "import pandas as pd\n",
    "import numpy as np\n",
    "\n",
    "import warnings\n",
    "warnings.simplefilter('ignore')\n",
    "warnings.filterwarnings('ignore')\n",
    "\n",
    "import numpy as np\n",
    "from gensim.models import word2vec #  word2vec library  \n",
    "import sentencepiece as spm # For sentencepiece model"
   ]
  },
  {
   "cell_type": "markdown",
   "metadata": {},
   "source": [
    "# Load Data"
   ]
  },
  {
   "cell_type": "code",
   "execution_count": 7,
   "metadata": {},
   "outputs": [],
   "source": [
    "data_path = '../../../../data/klue clf/'\n",
    "\n",
    "train = pd.read_csv(data_path + 'train_data.csv').sample(frac = 1)\n",
    "test = pd.read_csv(data_path + 'test_data.csv')"
   ]
  },
  {
   "cell_type": "code",
   "execution_count": 8,
   "metadata": {},
   "outputs": [
    {
     "data": {
      "text/html": [
       "<div>\n",
       "<style scoped>\n",
       "    .dataframe tbody tr th:only-of-type {\n",
       "        vertical-align: middle;\n",
       "    }\n",
       "\n",
       "    .dataframe tbody tr th {\n",
       "        vertical-align: top;\n",
       "    }\n",
       "\n",
       "    .dataframe thead th {\n",
       "        text-align: right;\n",
       "    }\n",
       "</style>\n",
       "<table border=\"1\" class=\"dataframe\">\n",
       "  <thead>\n",
       "    <tr style=\"text-align: right;\">\n",
       "      <th></th>\n",
       "      <th>index</th>\n",
       "      <th>title</th>\n",
       "      <th>topic_idx</th>\n",
       "    </tr>\n",
       "  </thead>\n",
       "  <tbody>\n",
       "    <tr>\n",
       "      <th>2114</th>\n",
       "      <td>2114</td>\n",
       "      <td>그래픽 자문안으로 본 대통령 개헌안 주요 내용</td>\n",
       "      <td>6</td>\n",
       "    </tr>\n",
       "    <tr>\n",
       "      <th>44885</th>\n",
       "      <td>44885</td>\n",
       "      <td>관악구 여름방학 아르바이트 대학생 200명 모집</td>\n",
       "      <td>2</td>\n",
       "    </tr>\n",
       "    <tr>\n",
       "      <th>8968</th>\n",
       "      <td>8968</td>\n",
       "      <td>남북정상회담 준비委 발족…문 대통령 국제지지 받도록 만전종합2보</td>\n",
       "      <td>6</td>\n",
       "    </tr>\n",
       "    <tr>\n",
       "      <th>2964</th>\n",
       "      <td>2964</td>\n",
       "      <td>아시안게임 일본전 결승 솔로포 김하성 금메달 꼭 ...</td>\n",
       "      <td>5</td>\n",
       "    </tr>\n",
       "    <tr>\n",
       "      <th>30826</th>\n",
       "      <td>30826</td>\n",
       "      <td>文대통령 모친 빈소에 野대표들 잇따라 조문…고인 애도</td>\n",
       "      <td>6</td>\n",
       "    </tr>\n",
       "  </tbody>\n",
       "</table>\n",
       "</div>"
      ],
      "text/plain": [
       "       index                                title  topic_idx\n",
       "2114    2114            그래픽 자문안으로 본 대통령 개헌안 주요 내용          6\n",
       "44885  44885           관악구 여름방학 아르바이트 대학생 200명 모집          2\n",
       "8968    8968  남북정상회담 준비委 발족…문 대통령 국제지지 받도록 만전종합2보          6\n",
       "2964    2964       아시안게임 일본전 결승 솔로포 김하성 금메달 꼭 ...          5\n",
       "30826  30826        文대통령 모친 빈소에 野대표들 잇따라 조문…고인 애도          6"
      ]
     },
     "execution_count": 8,
     "metadata": {},
     "output_type": "execute_result"
    }
   ],
   "source": [
    "train.head()"
   ]
  },
  {
   "cell_type": "markdown",
   "metadata": {},
   "source": [
    "## Set Data"
   ]
  },
  {
   "cell_type": "code",
   "execution_count": 11,
   "metadata": {},
   "outputs": [],
   "source": [
    "with open('title_train.txt', 'w', encoding = 'utf-8') as f : \n",
    "    for row in train.iterrows() : \n",
    "        txt = row[1]['title'] +'\\n'\n",
    "        f.write(txt)\n",
    "f.close()"
   ]
  },
  {
   "cell_type": "markdown",
   "metadata": {},
   "source": [
    "# Sentence Piece & Word 2 Vec"
   ]
  },
  {
   "cell_type": "markdown",
   "metadata": {},
   "source": [
    "## Set Parameters"
   ]
  },
  {
   "cell_type": "code",
   "execution_count": 12,
   "metadata": {},
   "outputs": [],
   "source": [
    "num_features = 300 # Embedding Vector Size\n",
    "negative = 10 # words for negative sampling\n",
    "min_word_count = 6 # minimum words in one sentence\n",
    "window = 5 # context window size\n",
    "downsampling = 0.75 # Lower frequency for high-frequency words \n",
    "epoch = 20"
   ]
  },
  {
   "cell_type": "code",
   "execution_count": 14,
   "metadata": {},
   "outputs": [
    {
     "name": "stdout",
     "output_type": "stream",
     "text": [
      "Wall time: 2.89 s\n"
     ]
    }
   ],
   "source": [
    "%%time\n",
    "\n",
    "spm.SentencePieceTrainer.train(input=\"./title_train.txt\", model_prefix='sp', vocab_size=3000, user_defined_symbols=['[CLS]', '[SEP]'])\n",
    "sp = spm.SentencePieceProcessor(model_file='./sp.model')"
   ]
  },
  {
   "cell_type": "code",
   "execution_count": 15,
   "metadata": {},
   "outputs": [],
   "source": [
    "sp_titles = []\n",
    "titles = []\n",
    "for line in train.iterrows() : \n",
    "    line = line[1]['title']\n",
    "    titles.append(line.split(' '))\n",
    "    sp_titles.append(sp.encode(line, out_type=str))"
   ]
  },
  {
   "cell_type": "code",
   "execution_count": 17,
   "metadata": {},
   "outputs": [
    {
     "name": "stdout",
     "output_type": "stream",
     "text": [
      "Wall time: 11.7 s\n"
     ]
    }
   ],
   "source": [
    "%%time\n",
    "\n",
    "# skip-gram model training with naive splitted data\n",
    "premises_normal = word2vec.Word2Vec(titles,\n",
    "                                sg = 1, # CBOW = 0, skip-gram = 1\n",
    "                                negative=negative,\n",
    "                                size=num_features, \n",
    "                                min_count=min_word_count,\n",
    "                                window=window,\n",
    "                                sample=downsampling,\n",
    "                                iter=epoch)\n"
   ]
  },
  {
   "cell_type": "code",
   "execution_count": 18,
   "metadata": {},
   "outputs": [
    {
     "name": "stdout",
     "output_type": "stream",
     "text": [
      "Wall time: 1min 15s\n"
     ]
    }
   ],
   "source": [
    "%%time\n",
    "# skip-gram model training with sentencepiece data\n",
    "premises_SP = word2vec.Word2Vec(sp_titles,\n",
    "                                  sg = 1, # CBOW = 0, skip-gram = 1\n",
    "                                  negative=negative,\n",
    "                                  size=num_features, \n",
    "                                  min_count=min_word_count,\n",
    "                                  window=window,\n",
    "                                  sample=downsampling,\n",
    "                                  iter=epoch)"
   ]
  },
  {
   "cell_type": "code",
   "execution_count": 22,
   "metadata": {},
   "outputs": [
    {
     "data": {
      "text/plain": [
       "[('대선', 0.674289345741272),\n",
       " ('평양정상회담', 0.6496884226799011),\n",
       " ('탄핵', 0.6275056004524231),\n",
       " ('호세프', 0.6253585815429688),\n",
       " ('개헌안', 0.6250211000442505),\n",
       " ('대통령의', 0.6233727931976318),\n",
       " ('대통령에', 0.6217567920684814),\n",
       " ('대통령과', 0.6090984344482422),\n",
       " ('엘시시', 0.5995229482650757),\n",
       " ('문', 0.5868440866470337)]"
      ]
     },
     "execution_count": 22,
     "metadata": {},
     "output_type": "execute_result"
    }
   ],
   "source": [
    "premises_normal.wv.most_similar('대통령')"
   ]
  },
  {
   "cell_type": "code",
   "execution_count": 23,
   "metadata": {},
   "outputs": [
    {
     "data": {
      "text/plain": [
       "[('▁朴', 0.7994265556335449),\n",
       " ('▁文', 0.43013668060302734),\n",
       " ('潘', 0.39542412757873535),\n",
       " ('前', 0.39519405364990234),\n",
       " ('▁새누리', 0.36737316846847534),\n",
       " ('風', 0.3659006953239441),\n",
       " ('▁대통령', 0.3566558361053467),\n",
       " ('▁靑', 0.3528180718421936),\n",
       " ('▁최순실', 0.3427363634109497),\n",
       " ('▁여야', 0.3374297618865967)]"
      ]
     },
     "execution_count": 23,
     "metadata": {},
     "output_type": "execute_result"
    }
   ],
   "source": [
    "premises_SP.wv.most_similar('대통령')"
   ]
  }
 ],
 "metadata": {
  "interpreter": {
   "hash": "b3ba2566441a7c06988d0923437866b63cedc61552a5af99d1f4fb67d367b25f"
  },
  "kernelspec": {
   "display_name": "Python 3.8.8 64-bit ('base': conda)",
   "language": "python",
   "name": "python3"
  },
  "language_info": {
   "codemirror_mode": {
    "name": "ipython",
    "version": 3
   },
   "file_extension": ".py",
   "mimetype": "text/x-python",
   "name": "python",
   "nbconvert_exporter": "python",
   "pygments_lexer": "ipython3",
   "version": "3.8.8"
  },
  "orig_nbformat": 4
 },
 "nbformat": 4,
 "nbformat_minor": 2
}
