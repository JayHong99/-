{
 "cells": [
  {
   "cell_type": "code",
   "execution_count": 1,
   "metadata": {},
   "outputs": [],
   "source": [
    "import numpy as np\n",
    "import tensorflow as tf\n",
    "tf.compat.v1.enable_eager_execution()\n",
    "\n",
    "import os\n",
    "os.environ[\"CUDA_VISIBLE_DEVICES\"]=\"0\"\n",
    "gpus = tf.config.experimental.list_physical_devices('GPU')\n",
    "if gpus:\n",
    "    try:\n",
    "        for gpu in gpus:\n",
    "            tf.config.experimental.set_memory_growth(gpu, True)\n",
    "    except RuntimeError as e:\n",
    "        print(e)"
   ]
  },
  {
   "cell_type": "markdown",
   "metadata": {},
   "source": [
    "# Load Data"
   ]
  },
  {
   "cell_type": "code",
   "execution_count": 2,
   "metadata": {},
   "outputs": [
    {
     "name": "stdout",
     "output_type": "stream",
     "text": [
      "TRAIN DATA :  (60000, 784) (60000,)\n",
      "TEST  DATA :  (10000, 784) (10000,)\n"
     ]
    }
   ],
   "source": [
    "(X_train, y_train), (X_test, y_test) = tf.keras.datasets.mnist.load_data()\n",
    "X_train, y_train, X_test, y_test = X_train.astype(float), y_train.astype(float), X_test.astype(float), y_test.astype(float)\n",
    "X_train = X_train.reshape(-1,28 * 28) / 255\n",
    "X_test = X_test.reshape(-1,28 * 28) / 255\n",
    "\n",
    "print(\"TRAIN DATA : \", X_train.shape, y_train.shape)\n",
    "print(\"TEST  DATA : \", X_test.shape, y_test.shape)"
   ]
  },
  {
   "cell_type": "code",
   "execution_count": 3,
   "metadata": {},
   "outputs": [],
   "source": [
    "sample_data = X_train[:64]"
   ]
  },
  {
   "cell_type": "markdown",
   "metadata": {},
   "source": [
    "# Modeling"
   ]
  },
  {
   "cell_type": "markdown",
   "metadata": {},
   "source": [
    "## Variational Encoder"
   ]
  },
  {
   "cell_type": "markdown",
   "metadata": {},
   "source": [
    "### FC Block"
   ]
  },
  {
   "cell_type": "code",
   "execution_count": 4,
   "metadata": {},
   "outputs": [],
   "source": [
    "class FC_Block(tf.keras.layers.Layer) : \n",
    "    def __init__(self, units = 32) : \n",
    "        super(FC_Block, self).__init__()\n",
    "        self.units = units\n",
    "        self.linear = tf.keras.layers.Dense(units, kernel_initializer = 'he_normal')\n",
    "        self.batch = tf.keras.layers.BatchNormalization()\n",
    "        self.relu = tf.keras.layers.ReLU()\n",
    "        self.dropout = tf.keras.layers.Dropout(0.2)\n",
    "\n",
    "    def call(self, inputs, training = False) : \n",
    "        x = self.linear(inputs)\n",
    "        x = self.batch(x, training = training) \n",
    "        x = self.relu(x)\n",
    "        x = self.dropout(x)\n",
    "\n",
    "        return x"
   ]
  },
  {
   "cell_type": "code",
   "execution_count": 5,
   "metadata": {},
   "outputs": [],
   "source": [
    "class Sampling(tf.keras.layers.Layer) : \n",
    "\n",
    "    def call(self, inputs) : \n",
    "        mu, sigma = inputs\n",
    "        eps = tf.random.normal(shape = tf.shape(sigma))\n",
    "        return mu + tf.exp(0.5 * sigma) * eps"
   ]
  },
  {
   "cell_type": "code",
   "execution_count": 6,
   "metadata": {},
   "outputs": [],
   "source": [
    "class Encoder(tf.keras.layers.Layer) : \n",
    "    def __init__(self, block, sample) : \n",
    "        super(Encoder, self).__init__()\n",
    "        self.sample = sample\n",
    "        self.fc1 = block(256)\n",
    "        self.fc2 = block(64)\n",
    "        self.mu = tf.keras.layers.Dense(10)\n",
    "        self.sigma = tf.keras.layers.Dense(10)\n",
    "\n",
    "    def call(self, inputs) : \n",
    "        x = self.fc1(inputs)\n",
    "        x = self.fc2(x)\n",
    "        mu = self.mu(x)\n",
    "        sigma = self.sigma(x)\n",
    "        z = self.sample([mu,sigma])\n",
    "        return mu, sigma, z"
   ]
  },
  {
   "cell_type": "code",
   "execution_count": 7,
   "metadata": {},
   "outputs": [],
   "source": [
    "encoder = Encoder(FC_Block, Sampling)"
   ]
  },
  {
   "cell_type": "code",
   "execution_count": 8,
   "metadata": {},
   "outputs": [],
   "source": [
    "class Decoder(tf.keras.layers.Layer) : \n",
    "    def __init__(self, block) : \n",
    "        super(Decoder ,self).__init__()\n",
    "        self.fc1 = block(64)\n",
    "        self.fc2 = block(256)\n",
    "        self.linear = tf.keras.layers.Dense(28*28)\n",
    "        \n",
    "    def call(self, inputs) : \n",
    "        x = self.fc1(inputs)\n",
    "        x = self.fc2(x)\n",
    "        x = self.linear(x)\n",
    "        return tf.sigmoid(x)"
   ]
  },
  {
   "cell_type": "code",
   "execution_count": 17,
   "metadata": {},
   "outputs": [],
   "source": [
    "decoder = Decoder(FC_Block)"
   ]
  },
  {
   "cell_type": "code",
   "execution_count": null,
   "metadata": {},
   "outputs": [],
   "source": [
    "class VAE(tf.keras.Model) : \n",
    "    def __init__(self, encoder, decoder) :\n",
    "        "
   ]
  }
 ],
 "metadata": {
  "interpreter": {
   "hash": "b3ba2566441a7c06988d0923437866b63cedc61552a5af99d1f4fb67d367b25f"
  },
  "kernelspec": {
   "display_name": "Python 3.8.8 64-bit ('base': conda)",
   "language": "python",
   "name": "python3"
  },
  "language_info": {
   "codemirror_mode": {
    "name": "ipython",
    "version": 3
   },
   "file_extension": ".py",
   "mimetype": "text/x-python",
   "name": "python",
   "nbconvert_exporter": "python",
   "pygments_lexer": "ipython3",
   "version": "3.8.8"
  },
  "orig_nbformat": 4
 },
 "nbformat": 4,
 "nbformat_minor": 2
}
