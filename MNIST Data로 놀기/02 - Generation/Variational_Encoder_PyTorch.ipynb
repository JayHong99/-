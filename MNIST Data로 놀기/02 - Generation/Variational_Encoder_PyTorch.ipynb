{
  "cells": [
    {
      "cell_type": "code",
      "execution_count": 1,
      "metadata": {
        "id": "hYiLjYXOCek_"
      },
      "outputs": [],
      "source": [
        "import numpy as np\n",
        "import torch\n",
        "import torch.nn as nn\n",
        "import torch.optim as optim\n",
        "import torch.nn.init as init\n",
        "import torchvision.datasets as dset\n",
        "import torchvision.transforms as transforms\n",
        "from torch.utils.data import DataLoader\n",
        "\n",
        "torch.backends.cudnn.enabled = False\n",
        "torch.backends.cudnn.benchmark = False\n",
        "\n",
        "import matplotlib.pyplot as plt\n",
        "\n",
        "import os\n",
        "os.environ['CUDA_VISIBLE_DEVICES'] = '0' \n",
        "\n",
        "import warnings\n",
        "warnings.filterwarnings('ignore')\n",
        "warnings.simplefilter('ignore')"
      ]
    },
    {
      "cell_type": "markdown",
      "metadata": {
        "id": "1M3Yw-6ECelI"
      },
      "source": [
        "# Modeling"
      ]
    },
    {
      "cell_type": "code",
      "execution_count": 2,
      "metadata": {
        "id": "EuuSSQtYCelL"
      },
      "outputs": [],
      "source": [
        "class FC_Block(nn.Module) : \n",
        "    def __init__(self, input_dim, output_dim) : \n",
        "        super(FC_Block, self).__init__()\n",
        "        self.input_dim = input_dim\n",
        "        self.output_dim = output_dim\n",
        "\n",
        "        self.linear = nn.Linear(input_dim, output_dim)\n",
        "        self.relu = nn.ReLU(inplace = True)\n",
        "        self.bn = nn.BatchNorm1d(output_dim)\n",
        "        self.dr = nn.Dropout(.1)\n",
        "\n",
        "    def forward(self, x) : \n",
        "        out = self.linear(x)\n",
        "        out = self.bn(out)\n",
        "        out = self.relu(out)\n",
        "        out = self.dr(out)\n",
        "        return out"
      ]
    },
    {
      "cell_type": "code",
      "source": [
        "class VAE(nn.Module) : \n",
        "\n",
        "  def __init__(self, block) : \n",
        "    super(VAE,self).__init__()\n",
        "    self.encoder = nn.Sequential(\n",
        "        block(28*28, 256),\n",
        "        block(256,64),\n",
        "    )\n",
        "    self.fc_mu = nn.Linear(64,10)\n",
        "    self.fc_sigma = nn.Linear(64,10)\n",
        "    self.decoder = nn.Sequential(\n",
        "        block(10,64),\n",
        "        block(64,256),\n",
        "        nn.Linear(256,28*28),\n",
        "        nn.Sigmoid()\n",
        "    )\n",
        "\n",
        "  def reparam(self, mu, sigma) : \n",
        "    eps = torch.randn_like(sigma)\n",
        "    return mu + eps * torch.exp(0.5 * sigma)\n",
        "\n",
        "  def encode(self, x) : \n",
        "    hid = self.encoder(x)\n",
        "    mu = self.fc_mu(hid)\n",
        "    sigma = self.fc_sigma(hid)\n",
        "    z = self.reparam(mu,sigma)\n",
        "    return mu, sigma, z  \n",
        "\n",
        "  def decode(self, z) : \n",
        "    recon = self.decoder(z)\n",
        "    return recon\n",
        "\n",
        "  def forward(self, x) : \n",
        "    batch_size = x.size(0)\n",
        "    mu, sigma, z = self.encode(x.view(batch_size,28*28))\n",
        "    out = self.decode(z)\n",
        "    return out, mu, sigma, z\n"
      ],
      "metadata": {
        "id": "w-z5lvsrCo6y"
      },
      "execution_count": 64,
      "outputs": []
    },
    {
      "cell_type": "code",
      "execution_count": 65,
      "metadata": {
        "id": "R9LuY8o9CelP"
      },
      "outputs": [],
      "source": [
        "device = \"cuda:0\" if torch.cuda.is_available() else \"cpu\"\n",
        "vae = VAE(FC_Block).to(device)"
      ]
    },
    {
      "cell_type": "code",
      "source": [
        "BCE = nn.BCELoss(reduction='sum')\n",
        "\n",
        "def loss_fn(x, recon, mu, sigma) : \n",
        "  BCE_loss = BCE(recon, x.view(-1,28*28))\n",
        "  KLD_loss = -0.5 * torch.sum(1 + sigma -mu.pow(2) - sigma.exp())\n",
        "  return BCE_loss + KLD_loss\n",
        "\n",
        "optimizer = optim.Adam(vae.parameters(), lr = 0.05)"
      ],
      "metadata": {
        "id": "-g7ue-3Ol-dq"
      },
      "execution_count": 66,
      "outputs": []
    },
    {
      "cell_type": "markdown",
      "metadata": {
        "id": "_oJK1LUhCelQ"
      },
      "source": [
        "# Load Data"
      ]
    },
    {
      "cell_type": "code",
      "execution_count": 67,
      "metadata": {
        "id": "oSZWDuvcCelR"
      },
      "outputs": [],
      "source": [
        "mnist_train = dset.MNIST(\"./\", train=True, transform=transforms.ToTensor(), target_transform=None, download=True)\n",
        "mnist_test = dset.MNIST(\"./\", train=False, transform=transforms.ToTensor(), target_transform=None, download=True)\n",
        "mnist_train, mnist_val = torch.utils.data.random_split(mnist_train, [48000, 12000])"
      ]
    },
    {
      "cell_type": "code",
      "execution_count": 68,
      "metadata": {
        "id": "t73zTql1CelT"
      },
      "outputs": [],
      "source": [
        "dataloaders = {}\n",
        "batch_size = 480\n",
        "dataloaders['train'] = DataLoader(mnist_train, batch_size=batch_size, shuffle=True)\n",
        "dataloaders['val'] = DataLoader(mnist_val, batch_size=batch_size, shuffle=False)\n",
        "dataloaders['test'] = DataLoader(mnist_test, batch_size=batch_size, shuffle=False)"
      ]
    },
    {
      "cell_type": "markdown",
      "metadata": {
        "id": "wMlF6ry6CelV"
      },
      "source": [
        "# Training"
      ]
    },
    {
      "cell_type": "code",
      "source": [
        "def saveModel(model, path): \n",
        "    torch.save(model.state_dict(), path) "
      ],
      "metadata": {
        "id": "0LJAUR9wMtQa"
      },
      "execution_count": 69,
      "outputs": []
    },
    {
      "cell_type": "code",
      "source": [
        "import time\n",
        "import copy\n",
        "\n",
        "def train_model(model, dataloaders, criterion, optimizer, num_epochs=10):\n",
        "    \"\"\"\n",
        "    model: model to train\n",
        "    dataloaders: train, val, test data's loader\n",
        "    criterion: loss function\n",
        "    optimizer: optimizer to update your model\n",
        "    \"\"\"\n",
        "    since = time.time()\n",
        "\n",
        "    train_loss_history = []\n",
        "    val_loss_history = []\n",
        "\n",
        "    best_val_loss = 100000000\n",
        "    early_stop = 0\n",
        "\n",
        "    for epoch in range(num_epochs):\n",
        "        print('Epoch {}/{}'.format(epoch, num_epochs - 1))\n",
        "        print('-' * 10)\n",
        "\n",
        "        # Each epoch has a training and validation phase\n",
        "        for phase in ['train', 'val']:\n",
        "            if phase == 'train':\n",
        "                model.train()            # Set model to training mode\n",
        "            else:\n",
        "                model.eval()            # Set model to evaluate mode\n",
        "\n",
        "            running_loss = 0.0\n",
        "\n",
        "            # Iterate over data.\n",
        "            for inputs, labels in dataloaders[phase]:\n",
        "                inputs = inputs.to(device)                                       # transfer inputs to GPU \n",
        "\n",
        "                # zero the parameter gradients\n",
        "                optimizer.zero_grad()\n",
        "\n",
        "                # forward\n",
        "                # track history if only in train\n",
        "                with torch.set_grad_enabled(phase == 'train'):\n",
        "\n",
        "                    outputs, mu, log_var, z = model(inputs)\n",
        "                    loss = criterion(inputs, outputs, mu, log_var)  # calculate a loss\n",
        "\n",
        "\n",
        "                    # backward + optimize only if in training phase\n",
        "                    if phase == 'train':\n",
        "                        loss.backward()                             # perform back-propagation from the loss\n",
        "                        optimizer.step()                             # perform gradient descent with given optimizer\n",
        "\n",
        "                # statistics\n",
        "                running_loss += loss.item()\n",
        "\n",
        "            epoch_loss = running_loss / len(dataloaders[phase].dataset)\n",
        "\n",
        "            print('{} Loss: {:.4f}'.format(phase, epoch_loss))\n",
        "            \n",
        "            # deep copy the model\n",
        "            if phase == 'train':\n",
        "                train_loss_history.append(epoch_loss)\n",
        "\n",
        "            if phase == 'val':\n",
        "                val_loss_history.append(epoch_loss)\n",
        "\n",
        "            if phase == 'val' and epoch_loss < best_val_loss:\n",
        "                best_val_loss = epoch_loss\n",
        "                saveModel(model, 'VAE.pth')\n",
        "                early_stop = 0\n",
        "            elif phase == 'val' : \n",
        "                early_stop += 1\n",
        "            \n",
        "            if early_stop >= 5  :\n",
        "                break;\n",
        "\n",
        "        print()\n",
        "\n",
        "    time_elapsed = time.time() - since\n",
        "    print('Training complete in {:.0f}m {:.0f}s'.format(time_elapsed // 60, time_elapsed % 60))\n",
        "    print('Best val Loss: {:4f}'.format(best_val_loss))\n",
        "\n",
        "\n",
        "    # load best model weights\n",
        "    model.load_state_dict(torch.load('VAE.pth'))\n",
        "    return model, train_loss_history, val_loss_history"
      ],
      "metadata": {
        "id": "20S93lItDqm2"
      },
      "execution_count": 70,
      "outputs": []
    },
    {
      "cell_type": "code",
      "source": [
        "best_model, train_history, valid_history = train_model(vae, dataloaders, loss_fn, optimizer, num_epochs=10)"
      ],
      "metadata": {
        "colab": {
          "base_uri": "https://localhost:8080/"
        },
        "id": "7tB4pO_gJPSR",
        "outputId": "f5833362-8e1b-4a76-d2de-c5b3b2624fb1"
      },
      "execution_count": 71,
      "outputs": [
        {
          "output_type": "stream",
          "name": "stdout",
          "text": [
            "Epoch 0/9\n",
            "----------\n",
            "train Loss: 198.2431\n",
            "val Loss: 153.7613\n",
            "\n",
            "Epoch 1/9\n",
            "----------\n",
            "train Loss: 149.3380\n",
            "val Loss: 136.5973\n",
            "\n",
            "Epoch 2/9\n",
            "----------\n",
            "train Loss: 141.4644\n",
            "val Loss: 131.4034\n",
            "\n",
            "Epoch 3/9\n",
            "----------\n",
            "train Loss: 138.0139\n",
            "val Loss: 128.1033\n",
            "\n",
            "Epoch 4/9\n",
            "----------\n",
            "train Loss: 135.9988\n",
            "val Loss: 125.6921\n",
            "\n",
            "Epoch 5/9\n",
            "----------\n",
            "train Loss: 134.0198\n",
            "val Loss: 123.8980\n",
            "\n",
            "Epoch 6/9\n",
            "----------\n",
            "train Loss: 132.9241\n",
            "val Loss: 124.1048\n",
            "\n",
            "Epoch 7/9\n",
            "----------\n",
            "train Loss: 132.4987\n",
            "val Loss: 122.3712\n",
            "\n",
            "Epoch 8/9\n",
            "----------\n",
            "train Loss: 131.8288\n",
            "val Loss: 123.5678\n",
            "\n",
            "Epoch 9/9\n",
            "----------\n",
            "train Loss: 131.3733\n",
            "val Loss: 123.4258\n",
            "\n",
            "Training complete in 1m 20s\n",
            "Best val Loss: 122.371246\n"
          ]
        }
      ]
    },
    {
      "cell_type": "code",
      "source": [
        "import matplotlib.pyplot as plt\n",
        "\n",
        "# Let's draw a learning curve like below.\n",
        "plt.plot(train_history, label='train')\n",
        "plt.plot(valid_history, label='val')\n",
        "plt.xlabel('epoch')\n",
        "plt.ylabel('loss')\n",
        "plt.legend()\n",
        "plt.show()"
      ],
      "metadata": {
        "colab": {
          "base_uri": "https://localhost:8080/",
          "height": 279
        },
        "id": "FY50bpWBsO0s",
        "outputId": "6ffa0d45-9f7e-4498-c838-aab74e43c3cf"
      },
      "execution_count": 74,
      "outputs": [
        {
          "output_type": "display_data",
          "data": {
            "image/png": "[encoded data removed]",
            "text/plain": [
              "<Figure size 432x288 with 1 Axes>"
            ]
          },
          "metadata": {
            "needs_background": "light"
          }
        }
      ]
    },
    {
      "cell_type": "code",
      "source": [
        "with torch.no_grad():\n",
        "    running_loss = 0.0\n",
        "    for inputs, labels in dataloaders[\"test\"]:\n",
        "        inputs = inputs.to(device)\n",
        "\n",
        "        outputs, mu, log_var,z  = best_model(inputs)\n",
        "        test_loss = loss_fn(inputs, outputs, mu, log_var)\n",
        "        \n",
        "        running_loss += test_loss.item()\n",
        "\n",
        "    test_loss = running_loss / len(dataloaders[\"test\"].dataset)\n",
        "    print(test_loss)   "
      ],
      "metadata": {
        "colab": {
          "base_uri": "https://localhost:8080/"
        },
        "id": "0_OTK9gksW4M",
        "outputId": "f5191cc0-7aae-4433-aad1-f653f00d1eeb"
      },
      "execution_count": 77,
      "outputs": [
        {
          "output_type": "stream",
          "name": "stdout",
          "text": [
            "121.625298828125\n"
          ]
        }
      ]
    },
    {
      "cell_type": "code",
      "source": [
        "out_img = torch.squeeze(outputs.cpu().data)\n",
        "print(out_img.size())\n",
        "\n",
        "for i in range(5):\n",
        "    plt.subplot(1,2,1)\n",
        "    plt.imshow(torch.squeeze(inputs[i]).cpu().numpy(),cmap='gray')\n",
        "    plt.subplot(1,2,2)\n",
        "    plt.imshow(out_img[i].numpy().reshape(28, 28),cmap='gray')\n",
        "    plt.show()"
      ],
      "metadata": {
        "colab": {
          "base_uri": "https://localhost:8080/",
          "height": 955
        },
        "id": "zJ_rzsFHtLVt",
        "outputId": "9f041b1e-4c0b-4b04-aa6c-86d6934b5f68"
      },
      "execution_count": 78,
      "outputs": [
        {
          "output_type": "stream",
          "name": "stdout",
          "text": [
            "torch.Size([400, 784])\n"
          ]
        },
        {
          "output_type": "display_data",
          "data": {
            "image/png": "[encoded data removed]",
            "text/plain": [
              "<Figure size 432x288 with 2 Axes>"
            ]
          },
          "metadata": {
            "needs_background": "light"
          }
        },
        {
          "output_type": "display_data",
          "data": {
            "image/png": "[encoded data removed]",
            "text/plain": [
              "<Figure size 432x288 with 2 Axes>"
            ]
          },
          "metadata": {
            "needs_background": "light"
          }
        },
        {
          "output_type": "display_data",
          "data": {
            "image/png": "[encoded data removed]",
            "text/plain": [
              "<Figure size 432x288 with 2 Axes>"
            ]
          },
          "metadata": {
            "needs_background": "light"
          }
        },
        {
          "output_type": "display_data",
          "data": {
            "image/png": "[encoded data removed]",
            "text/plain": [
              "<Figure size 432x288 with 2 Axes>"
            ]
          },
          "metadata": {
            "needs_background": "light"
          }
        },
        {
          "output_type": "display_data",
          "data": {
            "image/png": "[encoded data removed]",
            "text/plain": [
              "<Figure size 432x288 with 2 Axes>"
            ]
          },
          "metadata": {
            "needs_background": "light"
          }
        }
      ]
    }
  ],
  "metadata": {
    "interpreter": {
      "hash": "b3ba2566441a7c06988d0923437866b63cedc61552a5af99d1f4fb67d367b25f"
    },
    "kernelspec": {
      "display_name": "Python 3.8.8 64-bit ('base': conda)",
      "language": "python",
      "name": "python3"
    },
    "language_info": {
      "codemirror_mode": {
        "name": "ipython",
        "version": 3
      },
      "file_extension": ".py",
      "mimetype": "text/x-python",
      "name": "python",
      "nbconvert_exporter": "python",
      "pygments_lexer": "ipython3",
      "version": "3.8.8"
    },
    "orig_nbformat": 4,
    "colab": {
      "name": "Variational Encoder - PyTorch.ipynb",
      "provenance": [],
      "collapsed_sections": []
    },
    "accelerator": "GPU"
  },
  "nbformat": 4,
  "nbformat_minor": 0
}