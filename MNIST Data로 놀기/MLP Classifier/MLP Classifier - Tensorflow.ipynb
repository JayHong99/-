{
 "cells": [
  {
   "cell_type": "code",
   "execution_count": 1,
   "metadata": {},
   "outputs": [],
   "source": [
    "import numpy as np\n",
    "import tensorflow as tf\n",
    "tf.compat.v1.enable_eager_execution()\n",
    "\n",
    "import os\n",
    "os.environ[\"CUDA_VISIBLE_DEVICES\"]=\"0\"\n",
    "gpus = tf.config.experimental.list_physical_devices('GPU')\n",
    "if gpus:\n",
    "    try:\n",
    "        for gpu in gpus:\n",
    "            tf.config.experimental.set_memory_growth(gpu, True)\n",
    "    except RuntimeError as e:\n",
    "        print(e)"
   ]
  },
  {
   "cell_type": "markdown",
   "metadata": {},
   "source": [
    "# MLP Classifier Modeling"
   ]
  },
  {
   "cell_type": "code",
   "execution_count": 2,
   "metadata": {},
   "outputs": [],
   "source": [
    "class Linear(tf.keras.layers.Layer):\n",
    "    def __init__(self, units=32):\n",
    "        super(Linear, self).__init__()\n",
    "        self.units = units\n",
    "\n",
    "    def build(self, input_shape):\n",
    "        self.w = self.add_weight(\n",
    "                                shape=(input_shape[-1], self.units),\n",
    "                                initializer=\"he_normal\",\n",
    "                                trainable=True,\n",
    "                                name = 'weight'\n",
    "        )\n",
    "        self.b = self.add_weight(\n",
    "                                shape=(self.units,), \n",
    "                                initializer=\"random_normal\", \n",
    "                                trainable=True,\n",
    "                                name = 'bias'\n",
    "        )\n",
    "\n",
    "    def call(self, inputs):\n",
    "        return tf.matmul(inputs, self.w) + self.b"
   ]
  },
  {
   "cell_type": "code",
   "execution_count": 3,
   "metadata": {},
   "outputs": [],
   "source": [
    "class FC_Block(tf.keras.layers.Layer) : \n",
    "    def __init__(self, units = 32) : \n",
    "        super(FC_Block, self).__init__()\n",
    "        self.units = units\n",
    "        self.linear = Linear(self.units)\n",
    "        self.batch = tf.keras.layers.BatchNormalization()\n",
    "        self.relu = tf.keras.layers.ReLU()\n",
    "        self.dropout = tf.keras.layers.Dropout(0.2)\n",
    "\n",
    "    def call(self, inputs, training = False) : \n",
    "        x = self.linear(inputs)\n",
    "        x = self.batch(x, training = training) \n",
    "        x = self.relu(x)\n",
    "        x = self.dropout(x)\n",
    "\n",
    "        return x\n"
   ]
  },
  {
   "cell_type": "code",
   "execution_count": 4,
   "metadata": {},
   "outputs": [],
   "source": [
    "class MLP_Classifier(tf.keras.Model) : \n",
    "    def __init__(self) : \n",
    "        super(MLP_Classifier, self).__init__()\n",
    "        self.mlp1 = FC_Block(256)\n",
    "        self.mlp2 = FC_Block(64)\n",
    "        self.mlp3 = FC_Block(16)\n",
    "        self.linear = Linear(10)\n",
    "    \n",
    "    def call(self, inputs) : \n",
    "        x = self.mlp1(inputs)\n",
    "        x = self.mlp2(x)\n",
    "        x = self.mlp3(x)\n",
    "        x = self.linear(x)\n",
    "\n",
    "        return tf.nn.softmax(x)"
   ]
  },
  {
   "cell_type": "code",
   "execution_count": 5,
   "metadata": {},
   "outputs": [],
   "source": [
    "mlp = MLP_Classifier()\n",
    "optimizer = tf.keras.optimizers.Adam(learning_rate=1e-3)\n",
    "loss_fn = tf.keras.losses.SparseCategoricalCrossentropy()\n",
    "mlp.compile(optimizer, loss = loss_fn, metrics = ['accuracy'])"
   ]
  },
  {
   "cell_type": "markdown",
   "metadata": {},
   "source": [
    "# Setting Data"
   ]
  },
  {
   "cell_type": "code",
   "execution_count": 6,
   "metadata": {},
   "outputs": [
    {
     "name": "stdout",
     "output_type": "stream",
     "text": [
      "TRAIN DATA :  (60000, 784) (60000,)\n",
      "TEST  DATA :  (10000, 784) (10000,)\n"
     ]
    }
   ],
   "source": [
    "(X_train, y_train), (X_test, y_test) = tf.keras.datasets.mnist.load_data()\n",
    "X_train, y_train, X_test, y_test = X_train.astype(float), y_train.astype(float), X_test.astype(float), y_test.astype(float)\n",
    "X_train = X_train.reshape(-1,28 * 28) / 255\n",
    "X_test = X_test.reshape(-1,28 * 28) / 255\n",
    "\n",
    "print(\"TRAIN DATA : \", X_train.shape, y_train.shape)\n",
    "print(\"TEST  DATA : \", X_test.shape, y_test.shape)"
   ]
  },
  {
   "cell_type": "code",
   "execution_count": 7,
   "metadata": {},
   "outputs": [
    {
     "name": "stdout",
     "output_type": "stream",
     "text": [
      "TRAIN DATA :  (48000, 784) (48000,)\n",
      "VALID DATA :  (12000, 784) (12000,)\n"
     ]
    }
   ],
   "source": [
    "from sklearn.model_selection import train_test_split\n",
    "train_idx, valid_idx = train_test_split(np.arange(X_train.shape[0]), test_size = 0.2, shuffle = True, random_state = 100, stratify = y_train)\n",
    "X_train_images = X_train[train_idx]\n",
    "X_train_labels = y_train[train_idx]\n",
    "X_valid_images = X_train[valid_idx]\n",
    "X_valid_labels = y_train[valid_idx]\n",
    "\n",
    "print(\"TRAIN DATA : \", X_train_images.shape, X_train_labels.shape)\n",
    "print(\"VALID DATA : \", X_valid_images.shape, X_valid_labels.shape)"
   ]
  },
  {
   "cell_type": "markdown",
   "metadata": {},
   "source": [
    "# Training"
   ]
  },
  {
   "cell_type": "code",
   "execution_count": 8,
   "metadata": {},
   "outputs": [],
   "source": [
    "def return_callbacks(save_path, patience) : \n",
    "    early = tf.keras.callbacks.EarlyStopping('val_loss', patience = patience, mode = 'min')\n",
    "    mckt = tf.keras.callbacks.ModelCheckpoint(save_path, monitor = 'val_loss', save_weights_only=True)\n",
    "    reduce_lr = tf.keras.callbacks.ReduceLROnPlateau(monitor = 'val_loss', factor = 0.1, patience = patience // 3, min_lr = 1e-5)\n",
    "\n",
    "    return [early, mckt, reduce_lr]"
   ]
  },
  {
   "cell_type": "code",
   "execution_count": 9,
   "metadata": {},
   "outputs": [],
   "source": [
    "def draw_history(history) : \n",
    "    import matplotlib\n",
    "    import matplotlib.pyplot as plt\n",
    "    fig, loss_ax = plt.subplots()\n",
    "    acc_ax = loss_ax.twinx()\n",
    "\n",
    "    loss_ax.plot(history.history['loss'], 'y', label='train loss')\n",
    "    loss_ax.plot(history.history['val_loss'], 'r', label='val loss')\n",
    "    loss_ax.set_xlabel('epoch')\n",
    "    loss_ax.set_ylabel('loss')\n",
    "    loss_ax.legend(loc='upper left')\n",
    "\n",
    "    acc_ax.plot(history.history['accuracy'], 'b', label='train accuracy')\n",
    "    acc_ax.plot(history.history['val_accuracy'], 'g', label='val accuracy')\n",
    "    acc_ax.set_ylabel('accuracy')\n",
    "    acc_ax.legend(loc='upper left')\n",
    "\n",
    "    plt.show()"
   ]
  },
  {
   "cell_type": "code",
   "execution_count": 10,
   "metadata": {},
   "outputs": [
    {
     "data": {
      "image/png": "[encoded data removed]",
      "text/plain": [
       "<Figure size 432x288 with 2 Axes>"
      ]
     },
     "metadata": {
      "needs_background": "light"
     },
     "output_type": "display_data"
    }
   ],
   "source": [
    "ckpt = 'checkpoint.h5'\n",
    "patience = 20\n",
    "history = mlp.fit(X_train_images, X_train_labels,\n",
    "        validation_data = (X_valid_images, X_valid_labels),\n",
    "        batch_size = 480,\n",
    "        epochs = 30,\n",
    "        verbose = 0, \n",
    "        callbacks= return_callbacks(ckpt, patience)\n",
    "        )\n",
    "draw_history(history)"
   ]
  },
  {
   "cell_type": "markdown",
   "metadata": {},
   "source": [
    "# Prediction"
   ]
  },
  {
   "cell_type": "code",
   "execution_count": 11,
   "metadata": {},
   "outputs": [
    {
     "name": "stdout",
     "output_type": "stream",
     "text": [
      "Accuracy :  0.9826\n"
     ]
    }
   ],
   "source": [
    "mlp.load_weights('checkpoint.h5')\n",
    "y_pred = mlp.predict(X_test)\n",
    "pred = np.argmax(y_pred, axis = 1)\n",
    "accuracy = sum(pred == y_test) / y_test.shape[0]\n",
    "print('Accuracy : ', accuracy)"
   ]
  },
  {
   "cell_type": "markdown",
   "metadata": {},
   "source": [
    "# Draw Plot"
   ]
  },
  {
   "cell_type": "code",
   "execution_count": 12,
   "metadata": {},
   "outputs": [],
   "source": [
    "def draw_wrong_images(X_test, y_test, y_pred) : \n",
    "    import matplotlib\n",
    "    import matplotlib.pyplot as plt\n",
    "    plt.figure(figsize = (6,12))\n",
    "    wrong_idxes = [idx for idx,x in enumerate(y_test == pred) if x == False]\n",
    "    wrong_images = X_test[wrong_idxes].reshape(-1,28,28)\n",
    "    wrong_labels = y_pred[wrong_idxes]\n",
    "    correct_labels = y_test[wrong_idxes]\n",
    "\n",
    "    for i in  range(1,11) : \n",
    "        rs = np.random.randint(len(wrong_idxes))\n",
    "        wrong_image = wrong_images[rs]\n",
    "        wrong_label = wrong_labels[rs]\n",
    "        correct_label = correct_labels[rs] \n",
    "        plt.subplot(5,2,i)\n",
    "        plt.imshow(wrong_image)\n",
    "        plt.title(f'{correct_label} => {wrong_label}')\n",
    "        plt.axis('off')"
   ]
  },
  {
   "cell_type": "code",
   "execution_count": 13,
   "metadata": {},
   "outputs": [
    {
     "data": {
      "image/png": "[encoded data removed]",
      "text/plain": [
       "<Figure size 432x864 with 10 Axes>"
      ]
     },
     "metadata": {
      "needs_background": "light"
     },
     "output_type": "display_data"
    }
   ],
   "source": [
    "draw_wrong_images(X_test, y_test, pred)"
   ]
  }
 ],
 "metadata": {
  "interpreter": {
   "hash": "b3ba2566441a7c06988d0923437866b63cedc61552a5af99d1f4fb67d367b25f"
  },
  "kernelspec": {
   "display_name": "Python 3.8.8 64-bit ('base': conda)",
   "language": "python",
   "name": "python3"
  },
  "language_info": {
   "codemirror_mode": {
    "name": "ipython",
    "version": 3
   },
   "file_extension": ".py",
   "mimetype": "text/x-python",
   "name": "python",
   "nbconvert_exporter": "python",
   "pygments_lexer": "ipython3",
   "version": "3.8.8"
  },
  "orig_nbformat": 4
 },
 "nbformat": 4,
 "nbformat_minor": 2
}
