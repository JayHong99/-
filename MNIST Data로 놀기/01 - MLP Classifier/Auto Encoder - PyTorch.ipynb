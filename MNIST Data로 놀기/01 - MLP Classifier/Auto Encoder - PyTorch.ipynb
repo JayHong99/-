{
  "cells": [
    {
      "cell_type": "code",
      "execution_count": 1,
      "metadata": {
        "id": "hYiLjYXOCek_"
      },
      "outputs": [],
      "source": [
        "import numpy as np\n",
        "import torch\n",
        "import torch.nn as nn\n",
        "import torch.optim as optim\n",
        "import torch.nn.init as init\n",
        "import torchvision.datasets as dset\n",
        "import torchvision.transforms as transforms\n",
        "from torch.utils.data import DataLoader\n",
        "\n",
        "torch.backends.cudnn.enabled = False\n",
        "torch.backends.cudnn.benchmark = False\n",
        "\n",
        "import matplotlib.pyplot as plt\n",
        "\n",
        "import os\n",
        "os.environ['CUDA_VISIBLE_DEVICES'] = '0' \n",
        "\n",
        "import warnings\n",
        "warnings.filterwarnings('ignore')\n",
        "warnings.simplefilter('ignore')"
      ]
    },
    {
      "cell_type": "markdown",
      "metadata": {
        "id": "1M3Yw-6ECelI"
      },
      "source": [
        "# Modeling"
      ]
    },
    {
      "cell_type": "code",
      "execution_count": 2,
      "metadata": {
        "id": "EuuSSQtYCelL"
      },
      "outputs": [],
      "source": [
        "class FC_Block(nn.Module) : \n",
        "    def __init__(self, input_dim, output_dim) : \n",
        "        super(FC_Block, self).__init__()\n",
        "        self.input_dim = input_dim\n",
        "        self.output_dim = output_dim\n",
        "\n",
        "        self.linear = nn.Linear(input_dim, output_dim)\n",
        "        self.relu = nn.ReLU(inplace = True)\n",
        "        self.bn = nn.BatchNorm1d(output_dim)\n",
        "        self.dr = nn.Dropout(.1)\n",
        "\n",
        "    def forward(self, x) : \n",
        "        out = self.linear(x)\n",
        "        out = self.bn(out)\n",
        "        out = self.relu(out)\n",
        "        out = self.dr(out)\n",
        "        return out"
      ]
    },
    {
      "cell_type": "code",
      "source": [
        "class AutoEncoder(nn.Module) : \n",
        "\n",
        "    def __init__(self , denoise = False) : \n",
        "        super(AutoEncoder,self).__init__()\n",
        "        self.denoise = denoise\n",
        "        self.linear1 = FC_Block(28*28, 256)\n",
        "        self.linear2 = FC_Block(256, 32)\n",
        "        self.linear3 = FC_Block(32, 256)\n",
        "        self.decoder = nn.Linear(256, 28*28)\n",
        "        self.sigmoid = nn.Sigmoid()\n",
        "\n",
        "    def forward(self, input) : \n",
        "        batch_size = input.size(0)\n",
        "        input = input.view(-1,28*28)\n",
        "        if self.denoise : \n",
        "            input += np.random.normal(0, 0.05, 28*28)\n",
        "        x = self.linear1(input)\n",
        "        x = self.linear2(x)\n",
        "        x = self.linear3(x)\n",
        "        x = self.decoder(x)\n",
        "        x = self.sigmoid(x)\n",
        "\n",
        "        return x.view(batch_size, 1, 28, 28)"
      ],
      "metadata": {
        "id": "w-z5lvsrCo6y"
      },
      "execution_count": 38,
      "outputs": []
    },
    {
      "cell_type": "code",
      "execution_count": 39,
      "metadata": {
        "id": "R9LuY8o9CelP"
      },
      "outputs": [],
      "source": [
        "device = \"cuda:0\" if torch.cuda.is_available() else \"cpu\"\n",
        "AE = AutoEncoder(denoise = False).to(device)"
      ]
    },
    {
      "cell_type": "markdown",
      "metadata": {
        "id": "_oJK1LUhCelQ"
      },
      "source": [
        "# Load Data"
      ]
    },
    {
      "cell_type": "code",
      "execution_count": 40,
      "metadata": {
        "id": "oSZWDuvcCelR"
      },
      "outputs": [],
      "source": [
        "mnist_train = dset.MNIST(\"./\", train=True, transform=transforms.ToTensor(), target_transform=None, download=True)\n",
        "mnist_test = dset.MNIST(\"./\", train=False, transform=transforms.ToTensor(), target_transform=None, download=True)\n",
        "mnist_train, mnist_val = torch.utils.data.random_split(mnist_train, [48000, 12000])"
      ]
    },
    {
      "cell_type": "code",
      "execution_count": 41,
      "metadata": {
        "id": "t73zTql1CelT"
      },
      "outputs": [],
      "source": [
        "dataloaders = {}\n",
        "batch_size = 480\n",
        "dataloaders['train'] = DataLoader(mnist_train, batch_size=batch_size, shuffle=True)\n",
        "dataloaders['val'] = DataLoader(mnist_val, batch_size=batch_size, shuffle=False)\n",
        "dataloaders['test'] = DataLoader(mnist_test, batch_size=batch_size, shuffle=False)"
      ]
    },
    {
      "cell_type": "markdown",
      "metadata": {
        "id": "wMlF6ry6CelV"
      },
      "source": [
        "# Training"
      ]
    },
    {
      "cell_type": "code",
      "source": [
        "def saveModel(model, path): \n",
        "    torch.save(model.state_dict(), path) "
      ],
      "metadata": {
        "id": "0LJAUR9wMtQa"
      },
      "execution_count": 42,
      "outputs": []
    },
    {
      "cell_type": "code",
      "source": [
        "def train_AE(model, dataloader, num_epoch, optimizer, loss_fn) :\n",
        "  from tqdm import tqdm\n",
        "  train_loss_history = []\n",
        "  valid_loss_history = []\n",
        "  best_val_loss = 1e+7\n",
        "  early_stop = 0\n",
        "\n",
        "  for epoch in range(num_epoch) : \n",
        "    for phase in ['train','val'] : \n",
        "      if phase == 'train' : \n",
        "        model.train()\n",
        "      else : \n",
        "        model.eval()\n",
        "      running_loss = 0\n",
        "\n",
        "      for x,_ in dataloader[phase] :\n",
        "        optimizer.zero_grad()\n",
        "        x = x.to(device)\n",
        "        with torch.set_grad_enabled(phase == 'train') :\n",
        "          output = model(x)\n",
        "          loss = loss_fn(output, x)\n",
        "\n",
        "          if phase == 'train' : \n",
        "            loss.backward()\n",
        "            optimizer.step()\n",
        "        running_loss += loss.item() * x.size(0)\n",
        "      epoch_loss = running_loss / len(dataloader[phase])\n",
        "\n",
        "      if phase == 'train' : \n",
        "        train_loss_history.append(epoch_loss)\n",
        "      else : \n",
        "        valid_loss_history.append(epoch_loss)\n",
        "      \n",
        "      if phase == 'val' and epoch_loss < best_val_loss : \n",
        "        print('')\n",
        "        print(f'Best Model Saved at Epoch : {epoch} with loss {epoch_loss}')\n",
        "        best_val_loss = epoch_loss\n",
        "        saveModel(model, 'AE.pth')\n",
        "        early_stop = 0\n",
        "      elif phase == 'val' : \n",
        "        early_stop += 1\n",
        "      \n",
        "      if early_stop >= 5 : \n",
        "        break;\n",
        "  model.load_state_dict(torch.load('AE.pth'))\n",
        "  return model"
      ],
      "metadata": {
        "id": "20S93lItDqm2"
      },
      "execution_count": 45,
      "outputs": []
    },
    {
      "cell_type": "code",
      "source": [
        "AE_optimizer = optim.Adam(AE.parameters(), lr = 0.002)\n",
        "AE_loss_fn = nn.MSELoss().to(device)\n",
        "AE = train_AE(AE, dataloaders, 5, AE_optimizer, AE_loss_fn)"
      ],
      "metadata": {
        "colab": {
          "base_uri": "https://localhost:8080/"
        },
        "id": "7tB4pO_gJPSR",
        "outputId": "ff0f5f75-06ac-4c95-94c2-4d6526002025"
      },
      "execution_count": 46,
      "outputs": [
        {
          "output_type": "stream",
          "name": "stdout",
          "text": [
            "\n",
            "Best Model Saved at Epoch : 0 with loss 5.284387099742889\n",
            "\n",
            "Best Model Saved at Epoch : 1 with loss 5.261003029346466\n",
            "\n",
            "Best Model Saved at Epoch : 2 with loss 5.186221271753311\n",
            "\n",
            "Best Model Saved at Epoch : 4 with loss 5.185020053386689\n"
          ]
        }
      ]
    },
    {
      "cell_type": "markdown",
      "source": [
        "# Reconstruct Test"
      ],
      "metadata": {
        "id": "i9oP5k2wQwKA"
      }
    },
    {
      "cell_type": "code",
      "source": [
        "for x, _ in dataloaders['test'] : \n",
        "  break;"
      ],
      "metadata": {
        "id": "kdU9P03bP9xg"
      },
      "execution_count": 47,
      "outputs": []
    },
    {
      "cell_type": "code",
      "source": [
        "test_images = x[:10].to(device)"
      ],
      "metadata": {
        "id": "2QhPxyETQ1vO"
      },
      "execution_count": 51,
      "outputs": []
    },
    {
      "cell_type": "code",
      "source": [
        "new_image = AE(test_images).detach().cpu().numpy()"
      ],
      "metadata": {
        "id": "qNwogJmOQ7OF"
      },
      "execution_count": 52,
      "outputs": []
    },
    {
      "cell_type": "code",
      "source": [
        "new_image.shape"
      ],
      "metadata": {
        "colab": {
          "base_uri": "https://localhost:8080/"
        },
        "id": "KflF-3O3lMpH",
        "outputId": "eb881a24-4db0-4315-fc2c-6c95c2347932"
      },
      "execution_count": 54,
      "outputs": [
        {
          "output_type": "execute_result",
          "data": {
            "text/plain": [
              "(10, 1, 28, 28)"
            ]
          },
          "metadata": {},
          "execution_count": 54
        }
      ]
    },
    {
      "cell_type": "code",
      "source": [
        "import matplotlib.pyplot as plt\n",
        "import matplotlib\n",
        "\n",
        "for i in range(1,11) : \n",
        "  plt.subplot(2,10,i)\n",
        "  plt.imshow(x[i-1][0].numpy())\n",
        "  plt.subplot(2,10, i+ 10)\n",
        "  plt.imshow(new_image[i-1][0])"
      ],
      "metadata": {
        "colab": {
          "base_uri": "https://localhost:8080/",
          "height": 198
        },
        "id": "xIOnDqhxREiR",
        "outputId": "1a8c0ad3-c1bc-4bb3-e80b-6780ada7ba61"
      },
      "execution_count": 55,
      "outputs": [
        {
          "output_type": "display_data",
          "data": {
            "image/png": "[encoded data removed]",
            "text/plain": [
              "<Figure size 432x288 with 20 Axes>"
            ]
          },
          "metadata": {
            "needs_background": "light"
          }
        }
      ]
    },
    {
      "cell_type": "code",
      "source": [
        ""
      ],
      "metadata": {
        "id": "MkIkRRWWdG_K"
      },
      "execution_count": null,
      "outputs": []
    }
  ],
  "metadata": {
    "interpreter": {
      "hash": "b3ba2566441a7c06988d0923437866b63cedc61552a5af99d1f4fb67d367b25f"
    },
    "kernelspec": {
      "display_name": "Python 3.8.8 64-bit ('base': conda)",
      "language": "python",
      "name": "python3"
    },
    "language_info": {
      "codemirror_mode": {
        "name": "ipython",
        "version": 3
      },
      "file_extension": ".py",
      "mimetype": "text/x-python",
      "name": "python",
      "nbconvert_exporter": "python",
      "pygments_lexer": "ipython3",
      "version": "3.8.8"
    },
    "orig_nbformat": 4,
    "colab": {
      "name": "Auto Encoder - PyTorch.ipynb",
      "provenance": [],
      "collapsed_sections": []
    },
    "accelerator": "GPU"
  },
  "nbformat": 4,
  "nbformat_minor": 0
}