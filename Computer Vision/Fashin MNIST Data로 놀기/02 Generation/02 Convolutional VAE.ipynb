{
 "cells": [
  {
   "cell_type": "code",
   "execution_count": 1,
   "metadata": {},
   "outputs": [],
   "source": [
    "import numpy as np\n",
    "import torch\n",
    "import torch.nn as nn\n",
    "import torch.optim as optim\n",
    "import torch.nn.init as init\n",
    "import torch.nn.functional as F\n",
    "import torchvision.datasets as dset\n",
    "import torchvision.transforms as transforms\n",
    "from torch.utils.data import DataLoader\n",
    "\n",
    "torch.backends.cudnn.enabled = False\n",
    "torch.backends.cudnn.benchmark = False\n",
    "\n",
    "import matplotlib.pyplot as plt\n",
    "\n",
    "import os\n",
    "os.environ[\"CUDA_VISIBLE_DEVICES\"] = \"0\"\n",
    "\n",
    "\n",
    "import warnings\n",
    "warnings.filterwarnings('ignore')\n",
    "warnings.simplefilter('ignore')\n",
    "\n",
    "device = 'cuda' if torch.cuda.is_available() else 'cpu'\n",
    "#device = 'cpu'\n",
    "\n",
    "import random\n",
    "\n",
    "random.seed(777)\n",
    "torch.manual_seed(777)\n",
    "if device == 'cuda':\n",
    "    torch.cuda.manual_seed_all(777)"
   ]
  },
  {
   "cell_type": "code",
   "execution_count": 2,
   "metadata": {},
   "outputs": [],
   "source": [
    "batch_size = 512\n",
    "\n",
    "fmnist_train = dset.FashionMNIST(\"./\", train=True, transform=transforms.ToTensor(), target_transform=None, download=True)\n",
    "fmnist_test = dset.FashionMNIST(\"./\", train=False, transform=transforms.ToTensor(), target_transform=None, download=True)"
   ]
  },
  {
   "cell_type": "code",
   "execution_count": 3,
   "metadata": {},
   "outputs": [],
   "source": [
    "from sklearn.model_selection import StratifiedKFold\n",
    "n_split = 5\n",
    "skf = StratifiedKFold(n_splits = n_split, shuffle = True)\n",
    "\n",
    "for train_idx, valid_idx in skf.split(np.arange(fmnist_train.__len__()), fmnist_train.targets) : \n",
    "    break;\n",
    "\n",
    "def return_dataloader(train_idx, valid_idx) : \n",
    "    train_subsampler = torch.utils.data.SubsetRandomSampler(train_idx)\n",
    "    valid_subsampler = torch.utils.data.SubsetRandomSampler(valid_idx)\n",
    "\n",
    "    train_data = DataLoader(dataset=fmnist_train, batch_size = batch_size, sampler = train_subsampler)\n",
    "    valid_data = DataLoader(dataset=fmnist_train, batch_size = batch_size, sampler = valid_subsampler)\n",
    "    \n",
    "\n",
    "    dataloaders = {}\n",
    "    dataloaders['train'] = train_data\n",
    "    dataloaders['valid'] = valid_data\n",
    "\n",
    "    return dataloaders\n",
    "dataloader = return_dataloader(train_idx, valid_idx)"
   ]
  },
  {
   "cell_type": "code",
   "execution_count": 4,
   "metadata": {},
   "outputs": [],
   "source": [
    "class CVAE(nn.Module) : \n",
    "    def __init__(self) : \n",
    "        super(CVAE,self).__init__()\n",
    "        \n",
    "        self.en_conv1 = nn.Sequential(\n",
    "                    nn.Conv2d(1, 4, 3 ,padding = 1, bias = False),\n",
    "                    nn.LayerNorm([4,28,28])\n",
    "                    )\n",
    "        self.en_conv2 = nn.Sequential(\n",
    "                    nn.Conv2d(4, 8, 3, padding = 1, bias = False),\n",
    "                    nn.LayerNorm([8,28,28])\n",
    "                    )\n",
    "                    \n",
    "        self.fc_mu    = nn.Linear(8*28*28, 256)\n",
    "        self.fc_sigma = nn.Linear(8*28*28, 256)\n",
    "        self.de_fc    = nn.Linear(256,8*28*28)\n",
    "\n",
    "        self.de_conv1 = nn.Sequential(\n",
    "                    nn.ConvTranspose2d(8, 4, 3, padding = 1, bias = False),\n",
    "                    nn.LayerNorm([4,28,28])\n",
    "                    )\n",
    "        self.de_conv2 = nn.ConvTranspose2d(4, 1, 3, padding = 1, bias = False)\n",
    "\n",
    "        for m in self.modules() : \n",
    "            if isinstance(m, nn.Conv2d) or isinstance(m, nn.ConvTranspose2d) : \n",
    "                nn.init.kaiming_normal_(m.weight, mode = 'fan_out', nonlinearity='relu')\n",
    "            elif isinstance(m, nn.BatchNorm2d) : \n",
    "                nn.init.constant_(m.weight, 1)\n",
    "                nn.init.constant_(m.bias, 0)\n",
    "\n",
    "    def encoder(self,x ) : \n",
    "        x = self.en_conv1(x)\n",
    "        x = self.en_conv2(x)\n",
    "        x = x.view(-1, 8*28*28)\n",
    "        mu = self.fc_mu(x)\n",
    "        sigma = self.fc_sigma(x)\n",
    "        return mu, sigma\n",
    "\n",
    "    def reparam(self, mu, sigma) : \n",
    "        std = torch.exp(sigma)\n",
    "        eps = torch.randn_like(std)\n",
    "        return mu + std *eps\n",
    "    \n",
    "    def decoder(self, z) : \n",
    "        x = self.de_fc(z)\n",
    "        x = x.view(-1,8, 28, 28)\n",
    "        x = self.de_conv1(x)\n",
    "        x = self.de_conv2(x)\n",
    "        x = F.sigmoid(x)\n",
    "        return x / x.max()\n",
    "    \n",
    "    def forward(self, x) : \n",
    "        mu, sigma = self.encoder(x)\n",
    "        z = self.reparam(mu, sigma)\n",
    "        recon = self.decoder(z)\n",
    "        return recon, mu, sigma\n"
   ]
  },
  {
   "cell_type": "code",
   "execution_count": 5,
   "metadata": {},
   "outputs": [],
   "source": [
    "sample = next(iter(dataloader['train']))\n",
    "sample_x = sample[0][0].to(device)[:,None]\n",
    "sample_y = sample[1][0]\n",
    "classes = fmnist_test.classes"
   ]
  },
  {
   "cell_type": "code",
   "execution_count": 6,
   "metadata": {},
   "outputs": [],
   "source": [
    "def draw_sample(x, recon, y) : \n",
    "\n",
    "    plt.subplot(1,2,1)\n",
    "    plt.imshow(torch.squeeze(x).cpu().detach().numpy(), cmap = 'gray')\n",
    "    plt.title(f'RAW IMAGE OF {classes[y]}')\n",
    "\n",
    "    plt.subplot(1,2,2)\n",
    "    plt.imshow(torch.squeeze(recon[0]).cpu().detach().numpy() , cmap = 'gray')\n",
    "    plt.title(f'REC IMAGE OF {classes[y]}')\n",
    "    plt.show()"
   ]
  },
  {
   "cell_type": "code",
   "execution_count": 7,
   "metadata": {},
   "outputs": [],
   "source": [
    "def train_model(model, dataloader, optimizer, num_epoch, early_stop, model_path) : \n",
    "    import time\n",
    "\n",
    "    start_time = time.time()\n",
    "    early_stop_epoch = 0\n",
    "    best_val_loss = np.float('inf')\n",
    "\n",
    "    for epoch in range(num_epoch) : \n",
    "        for phase in ['train','valid'] : \n",
    "            if phase == 'train' : \n",
    "                model.train()\n",
    "            elif phase == 'valid' : \n",
    "                model.eval()\n",
    "            \n",
    "            running_loss = 0\n",
    "            total = 0 \n",
    "\n",
    "\n",
    "            for x, y in dataloader[phase] : \n",
    "                x = x.to(device)\n",
    "                optimizer.zero_grad()\n",
    "                total += x.size(0)\n",
    "\n",
    "\n",
    "                with torch.set_grad_enabled(phase == 'train') : \n",
    "                    output, mu, sigma = model(x)\n",
    "                    bce = F.binary_cross_entropy(output, x, reduction = 'sum').sum(axis = 0)\n",
    "                    kld = -0.5 * torch.sum(1 + sigma - mu.pow(2) - sigma.exp()).sum(axis = 0)\n",
    "                    loss = (kld + bce).mean()\n",
    "                    \n",
    "                    if phase == 'train' : \n",
    "                        loss.backward()\n",
    "                        optimizer.step()\n",
    "                running_loss += loss.item()\n",
    "            \n",
    "            epoch_loss = running_loss / total\n",
    "\n",
    "            if phase == 'valid' and epoch_loss < best_val_loss : \n",
    "                print(f'On Epoch {epoch}, Best Model Saved with Valid Loss {round(epoch_loss, 6)}')\n",
    "                \n",
    "                best_val_loss = epoch_loss\n",
    "                torch.save(model.state_dict(), model_path)\n",
    "                early_stop_epoch = 0\n",
    "                recon = model(sample_x)\n",
    "                draw_sample(sample_x, recon, sample_y)\n",
    "        \n",
    "            elif phase == 'valid' : \n",
    "                early_stop_epoch += 1\n",
    "\n",
    "        if early_stop_epoch >= early_stop : \n",
    "            \"Early Stop Occured on epoch\" + str(epoch)\n",
    "            break;\n",
    "    time_elapsed = time.time() - start_time\n",
    "    print(f'Training Complete in {time_elapsed//60}min {time_elapsed%60}sec')\n",
    "    print(f'Best Validation Loss : {round(best_val_loss, 6)}')\n",
    "\n",
    "\n",
    "    model.load_state_dict(torch.load(model_path))\n",
    "    return model"
   ]
  },
  {
   "cell_type": "code",
   "execution_count": 8,
   "metadata": {},
   "outputs": [
    {
     "name": "stdout",
     "output_type": "stream",
     "text": [
      "On Epoch 0, Best Model Saved with Valid Loss 24235.420156\n"
     ]
    },
    {
     "data": {
      "image/png": "[encoded data removed]",
      "text/plain": [
       "<Figure size 432x288 with 2 Axes>"
      ]
     },
     "metadata": {
      "needs_background": "light"
     },
     "output_type": "display_data"
    },
    {
     "name": "stdout",
     "output_type": "stream",
     "text": [
      "On Epoch 1, Best Model Saved with Valid Loss 5181.131406\n"
     ]
    },
    {
     "data": {
      "image/png": "[encoded data removed]",
      "text/plain": [
       "<Figure size 432x288 with 2 Axes>"
      ]
     },
     "metadata": {
      "needs_background": "light"
     },
     "output_type": "display_data"
    },
    {
     "name": "stdout",
     "output_type": "stream",
     "text": [
      "Training Complete in 3.0min 0.19072389602661133sec\n",
      "Best Validation Loss : 5181.131406\n"
     ]
    }
   ],
   "source": [
    "cvae = CVAE().to(device)\n",
    "optimizer = optim.Adam(cvae.parameters(), lr = 0.005)\n",
    "trained_cvae = train_model(cvae, dataloader, optimizer, 100, 10, 'cvae.pth')"
   ]
  },
  {
   "cell_type": "code",
   "execution_count": 9,
   "metadata": {},
   "outputs": [],
   "source": [
    "test_data_lodaer  = DataLoader(dataset = fmnist_test, batch_size  = batch_size , shuffle = False)"
   ]
  },
  {
   "cell_type": "code",
   "execution_count": 10,
   "metadata": {},
   "outputs": [
    {
     "name": "stdout",
     "output_type": "stream",
     "text": [
      "20639018.35\n"
     ]
    }
   ],
   "source": [
    "with torch.no_grad() : \n",
    "    running_loss = 0.0\n",
    "    for x,_ in test_data_lodaer: \n",
    "        x = x.to(device)\n",
    "\n",
    "        recon, mu, sigma = trained_cvae(x)\n",
    "        bce = F.binary_cross_entropy(recon, x, reduction = 'none').sum(axis = 1)\n",
    "        kld = -0.5 * torch.sum(1 + sigma - mu.pow(2) - sigma.exp()).sum(axis = 0)\n",
    "        test_loss = (kld + bce).mean()\n",
    "        running_loss += test_loss.item()\n",
    "\n",
    "    test_loss = running_loss / len(test_data_lodaer)\n",
    "    print(test_loss)"
   ]
  },
  {
   "cell_type": "code",
   "execution_count": 11,
   "metadata": {},
   "outputs": [
    {
     "name": "stdout",
     "output_type": "stream",
     "text": [
      "torch.Size([272, 28, 28])\n"
     ]
    },
    {
     "data": {
      "image/png": "[encoded data removed]",
      "text/plain": [
       "<Figure size 432x288 with 2 Axes>"
      ]
     },
     "metadata": {
      "needs_background": "light"
     },
     "output_type": "display_data"
    },
    {
     "data": {
      "image/png": "[encoded data removed]",
      "text/plain": [
       "<Figure size 432x288 with 2 Axes>"
      ]
     },
     "metadata": {
      "needs_background": "light"
     },
     "output_type": "display_data"
    },
    {
     "data": {
      "image/png": "[encoded data removed]",
      "text/plain": [
       "<Figure size 432x288 with 2 Axes>"
      ]
     },
     "metadata": {
      "needs_background": "light"
     },
     "output_type": "display_data"
    },
    {
     "data": {
      "image/png": "[encoded data removed]",
      "text/plain": [
       "<Figure size 432x288 with 2 Axes>"
      ]
     },
     "metadata": {
      "needs_background": "light"
     },
     "output_type": "display_data"
    },
    {
     "data": {
      "image/png": "[encoded data removed]",
      "text/plain": [
       "<Figure size 432x288 with 2 Axes>"
      ]
     },
     "metadata": {
      "needs_background": "light"
     },
     "output_type": "display_data"
    }
   ],
   "source": [
    "recon_img = torch.squeeze(recon.cpu().data)\n",
    "print(recon_img.size())\n",
    "\n",
    "for i in range(5):\n",
    "    plt.subplot(1,2,1)\n",
    "    plt.imshow(torch.squeeze(x[i]).cpu().numpy(),cmap='gray')\n",
    "    plt.subplot(1,2,2)\n",
    "    plt.imshow(recon_img[i].numpy().reshape(28, 28),cmap='gray')\n",
    "    plt.show()"
   ]
  }
 ],
 "metadata": {
  "interpreter": {
   "hash": "b3ba2566441a7c06988d0923437866b63cedc61552a5af99d1f4fb67d367b25f"
  },
  "kernelspec": {
   "display_name": "Python 3.8.8 ('base')",
   "language": "python",
   "name": "python3"
  },
  "language_info": {
   "codemirror_mode": {
    "name": "ipython",
    "version": 3
   },
   "file_extension": ".py",
   "mimetype": "text/x-python",
   "name": "python",
   "nbconvert_exporter": "python",
   "pygments_lexer": "ipython3",
   "version": "3.8.8"
  },
  "orig_nbformat": 4
 },
 "nbformat": 4,
 "nbformat_minor": 2
}
